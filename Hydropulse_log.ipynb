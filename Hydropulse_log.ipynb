{
 "cells": [
  {
   "cell_type": "markdown",
   "source": [
    "# Hydropulse Log\n",
    "\n",
    "---\n",
    "\n",
    "#### Challenge assignment 01\n",
    "\n",
    "Github repository for the project [here](https://github.com/LunaMellow/HydroPulse)\n",
    "You can view the commits and progress there if you wish :)\n",
    "\n",
    "To make sure the project had a good and effective structure, I asked chatgpt what modules I should have and what classes would be useful to use.\n",
    "[ChatGPT Structure Conversation](https://chat.openai.com/share/4c6028f9-b096-4e4a-a897-95c754d791d4)\n",
    "\n",
    "I then declared all the classes I deemed necessary and got everything ready to start coding the actual application.\n",
    "Using previous knowledge of pyglet I set up the window, properties and simple debug print(). \n",
    "\n",
    "Now that I had the base application structure and a working window, I started working on the balls that will make up the grid.\n",
    "Each ball is its own instance with its own properties. This will play a good part when I start working on interpolating them.\n",
    "\n",
    "I proceeded to make the grid class that will handle the actual placement and rendering of the balls. I made sure that they spawn according to the screen width and height so that the placement wont change when you increase or decrease the number of balls in the grid.\n",
    "\n",
    "Now that the grid is working and placing the balls correctly, I started creating the mouse iteraction for the balls. Under Grid.handle_interaction() I defined the ball click so that if the mouse is within a ball radius, it selects that ball. Also did some debug print statements to make sure all this would work correctly.\n",
    "\n",
    "Now we got the interaction working! I made it so the balls have two states to start with, \"active\" or \"idle\". They start as idle by default and only change color when clicked (\"active\"). This made it easy for me to see if the mouse clicking worked and interacted with the correct balls.\n",
    "\n",
    "After managing to click the balls, I then proceeded to create the vibration of the balls on mouse movement using pyglet on_mouse_motion, I call the Grid.handle_interaction() with the mouse coordinates and it then handles the actual interpolation logic for each ball.\n",
    "\n",
    "I got help from ChatGPT figuring out how to do the vibration, but it was pretty straight forward since we have worked so much with sin and cos functions in class.\n",
    "[ChatGPT Vibration Interpolation Conversation](https://chat.openai.com/share/d5560306-5f65-4bc7-a1cc-5a9e9b565903)\n",
    "\n",
    "After that worked pretty well, I wanted to move onto color. I picked two rgb values that I wanted for the interpolation and started creating the variables. Interpolating color was a bit difficult because I didnt quite know how, but linear interpolation seemed like it would fit so I made a really simple function, but got help from ChatGPT on how to actually use it for the colors.\n",
    "[ChatGPT Color Interpolation Conversation](https://chat.openai.com/share/ae4f2ec0-11fa-494d-ac5a-136e5df7778f)\n",
    "\n",
    "After getting the color interpolation to work I had some issues with some balls staying static in \"active\" even when passed over with the mouse again, but I added a condition to the interaction where it checks the state and sets the ball accordingly. So now its all stable and works well.\n",
    "\n",
    "\n"
   ],
   "metadata": {
    "collapsed": false
   },
   "id": "96cc9a0afb278b43"
  },
  {
   "cell_type": "markdown",
   "source": [],
   "metadata": {
    "collapsed": false
   },
   "id": "2a566a382a9882a4"
  },
  {
   "cell_type": "markdown",
   "source": [],
   "metadata": {
    "collapsed": false
   },
   "id": "bf1a2da17fc2c7c0"
  }
 ],
 "metadata": {
  "kernelspec": {
   "display_name": "Python 3",
   "language": "python",
   "name": "python3"
  },
  "language_info": {
   "codemirror_mode": {
    "name": "ipython",
    "version": 2
   },
   "file_extension": ".py",
   "mimetype": "text/x-python",
   "name": "python",
   "nbconvert_exporter": "python",
   "pygments_lexer": "ipython2",
   "version": "2.7.6"
  }
 },
 "nbformat": 4,
 "nbformat_minor": 5
}
